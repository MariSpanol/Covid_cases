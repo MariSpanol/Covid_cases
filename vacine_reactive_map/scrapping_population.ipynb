{
 "metadata": {
  "language_info": {
   "codemirror_mode": {
    "name": "ipython",
    "version": 3
   },
   "file_extension": ".py",
   "mimetype": "text/x-python",
   "name": "python",
   "nbconvert_exporter": "python",
   "pygments_lexer": "ipython3",
   "version": "3.8.8"
  },
  "orig_nbformat": 2,
  "kernelspec": {
   "name": "python388jvsc74a57bd0c3dc4aeedf5cd300561f0fd5d466f86c282de6261c5284ff8ece43e68c7c23aa",
   "display_name": "Python 3.8.8 64-bit ('minifloor': conda)"
  }
 },
 "nbformat": 4,
 "nbformat_minor": 2,
 "cells": [
  {
   "source": [
    "## Raspagem das informações de população\n",
    "\n",
    "Aqui está o processo que eu utilizo para obter as informações de população que eu utilizo para o calculo de percentual vacinado or COVID-19"
   ],
   "cell_type": "markdown",
   "metadata": {}
  },
  {
   "cell_type": "code",
   "execution_count": 1,
   "metadata": {},
   "outputs": [],
   "source": [
    "import requests\n",
    "from bs4 import BeautifulSoup\n",
    "from selenium import webdriver \n",
    "import pandas as pd\n",
    "\n",
    "driver = webdriver.Chrome(r\"C:\\Users\\mscamargo\\Desktop\\estudos\\estudos\\python-scraping\\chromedriver\") #conector do chrome mas podia ser firefox (se sem o caminho não encontrar seu chrome driver vai \n"
   ]
  },
  {
   "cell_type": "code",
   "execution_count": 2,
   "metadata": {},
   "outputs": [],
   "source": [
    "# aqui passamos a URL do site com os dados (to usando o site do MS com os dados de covid)\n",
    "\n",
    "URL = \"https://pt.wikipedia.org/wiki/Lista_de_unidades_federativas_do_Brasil_por_popula%C3%A7%C3%A3o\""
   ]
  },
  {
   "cell_type": "code",
   "execution_count": 3,
   "metadata": {},
   "outputs": [],
   "source": [
    "page = requests.get(URL)\n",
    "soup = BeautifulSoup(page.content, 'html.parser')\n",
    "tables = soup.find_all(\"table\")"
   ]
  },
  {
   "cell_type": "code",
   "execution_count": 4,
   "metadata": {},
   "outputs": [],
   "source": [
    "table = tables[0]\n",
    "tab_data = [[cell.text for cell in row.find_all([\"th\",\"td\"])]\n",
    "                        for row in table.find_all(\"tr\")]\n",
    "df = pd.DataFrame(tab_data)"
   ]
  },
  {
   "cell_type": "code",
   "execution_count": 5,
   "metadata": {},
   "outputs": [],
   "source": [
    "df.columns = df.iloc[0,:]\n",
    "df.drop(index=0,inplace=True)"
   ]
  },
  {
   "cell_type": "code",
   "execution_count": 6,
   "metadata": {},
   "outputs": [],
   "source": [
    "df.rename(columns = {'Unidade federativa\\n': 'Estado','População\\n':'Populacao' }, inplace = True)\n",
    "df = df[['Estado', 'Populacao']]"
   ]
  },
  {
   "cell_type": "code",
   "execution_count": 14,
   "metadata": {},
   "outputs": [],
   "source": [
    "df['Estado'] = df['Estado'].str.rstrip('\\n')\n",
    "df['Populacao'] = df['Populacao'].str.rstrip('\\n')"
   ]
  },
  {
   "cell_type": "code",
   "execution_count": 15,
   "metadata": {},
   "outputs": [
    {
     "output_type": "execute_result",
     "data": {
      "text/plain": [
       "0           Estado   Populacao\n",
       "1        São Paulo  46 289 333\n",
       "2     Minas Gerais  21 292 666\n",
       "3   Rio de Janeiro  17 366 189\n",
       "4            Bahia  14 930 634\n",
       "5           Paraná  11 516 840"
      ],
      "text/html": "<div>\n<style scoped>\n    .dataframe tbody tr th:only-of-type {\n        vertical-align: middle;\n    }\n\n    .dataframe tbody tr th {\n        vertical-align: top;\n    }\n\n    .dataframe thead th {\n        text-align: right;\n    }\n</style>\n<table border=\"1\" class=\"dataframe\">\n  <thead>\n    <tr style=\"text-align: right;\">\n      <th></th>\n      <th>Estado</th>\n      <th>Populacao</th>\n    </tr>\n  </thead>\n  <tbody>\n    <tr>\n      <th>1</th>\n      <td>São Paulo</td>\n      <td>46 289 333</td>\n    </tr>\n    <tr>\n      <th>2</th>\n      <td>Minas Gerais</td>\n      <td>21 292 666</td>\n    </tr>\n    <tr>\n      <th>3</th>\n      <td>Rio de Janeiro</td>\n      <td>17 366 189</td>\n    </tr>\n    <tr>\n      <th>4</th>\n      <td>Bahia</td>\n      <td>14 930 634</td>\n    </tr>\n    <tr>\n      <th>5</th>\n      <td>Paraná</td>\n      <td>11 516 840</td>\n    </tr>\n  </tbody>\n</table>\n</div>"
     },
     "metadata": {},
     "execution_count": 15
    }
   ],
   "source": [
    "df.head()"
   ]
  },
  {
   "cell_type": "code",
   "execution_count": 18,
   "metadata": {},
   "outputs": [
    {
     "output_type": "error",
     "ename": "TypeError",
     "evalue": "cannot convert the series to <class 'int'>",
     "traceback": [
      "\u001b[1;31m---------------------------------------------------------------------------\u001b[0m",
      "\u001b[1;31mTypeError\u001b[0m                                 Traceback (most recent call last)",
      "\u001b[1;32m<ipython-input-18-b6a1b0aa8fce>\u001b[0m in \u001b[0;36m<module>\u001b[1;34m\u001b[0m\n\u001b[0;32m      1\u001b[0m \u001b[0mdf\u001b[0m\u001b[1;33m[\u001b[0m\u001b[1;34m'Populacao'\u001b[0m\u001b[1;33m]\u001b[0m \u001b[1;33m=\u001b[0m \u001b[0mdf\u001b[0m\u001b[1;33m[\u001b[0m\u001b[1;34m'Populacao'\u001b[0m\u001b[1;33m]\u001b[0m\u001b[1;33m.\u001b[0m\u001b[0mstr\u001b[0m\u001b[1;33m.\u001b[0m\u001b[0mreplace\u001b[0m\u001b[1;33m(\u001b[0m\u001b[1;34m\" \"\u001b[0m\u001b[1;33m,\u001b[0m \u001b[1;34m\"\"\u001b[0m\u001b[1;33m)\u001b[0m\u001b[1;33m\u001b[0m\u001b[1;33m\u001b[0m\u001b[0m\n\u001b[1;32m----> 2\u001b[1;33m \u001b[0mint\u001b[0m\u001b[1;33m(\u001b[0m\u001b[0mdf\u001b[0m\u001b[1;33m.\u001b[0m\u001b[0mPopulacao\u001b[0m\u001b[1;33m)\u001b[0m\u001b[1;33m\u001b[0m\u001b[1;33m\u001b[0m\u001b[0m\n\u001b[0m",
      "\u001b[1;32m~\\Miniconda\\envs\\minifloor\\lib\\site-packages\\pandas\\core\\series.py\u001b[0m in \u001b[0;36mwrapper\u001b[1;34m(self)\u001b[0m\n\u001b[0;32m    139\u001b[0m         \u001b[1;32mif\u001b[0m \u001b[0mlen\u001b[0m\u001b[1;33m(\u001b[0m\u001b[0mself\u001b[0m\u001b[1;33m)\u001b[0m \u001b[1;33m==\u001b[0m \u001b[1;36m1\u001b[0m\u001b[1;33m:\u001b[0m\u001b[1;33m\u001b[0m\u001b[1;33m\u001b[0m\u001b[0m\n\u001b[0;32m    140\u001b[0m             \u001b[1;32mreturn\u001b[0m \u001b[0mconverter\u001b[0m\u001b[1;33m(\u001b[0m\u001b[0mself\u001b[0m\u001b[1;33m.\u001b[0m\u001b[0miloc\u001b[0m\u001b[1;33m[\u001b[0m\u001b[1;36m0\u001b[0m\u001b[1;33m]\u001b[0m\u001b[1;33m)\u001b[0m\u001b[1;33m\u001b[0m\u001b[1;33m\u001b[0m\u001b[0m\n\u001b[1;32m--> 141\u001b[1;33m         \u001b[1;32mraise\u001b[0m \u001b[0mTypeError\u001b[0m\u001b[1;33m(\u001b[0m\u001b[1;34mf\"cannot convert the series to {converter}\"\u001b[0m\u001b[1;33m)\u001b[0m\u001b[1;33m\u001b[0m\u001b[1;33m\u001b[0m\u001b[0m\n\u001b[0m\u001b[0;32m    142\u001b[0m \u001b[1;33m\u001b[0m\u001b[0m\n\u001b[0;32m    143\u001b[0m     \u001b[0mwrapper\u001b[0m\u001b[1;33m.\u001b[0m\u001b[0m__name__\u001b[0m \u001b[1;33m=\u001b[0m \u001b[1;34mf\"__{converter.__name__}__\"\u001b[0m\u001b[1;33m\u001b[0m\u001b[1;33m\u001b[0m\u001b[0m\n",
      "\u001b[1;31mTypeError\u001b[0m: cannot convert the series to <class 'int'>"
     ]
    }
   ],
   "source": [
    "df['Populacao'] = df['Populacao'].str.replace(\" \", \"\")\n",
    "df['Populacao'] = df['Populacao'].astype(int)\n"
   ]
  },
  {
   "cell_type": "code",
   "execution_count": 22,
   "metadata": {},
   "outputs": [],
   "source": [
    "df.to_csv('populacao_UF.csv', index = False)"
   ]
  },
  {
   "cell_type": "code",
   "execution_count": 23,
   "metadata": {},
   "outputs": [
    {
     "output_type": "execute_result",
     "data": {
      "text/plain": [
       "0                 Estado  Populacao\n",
       "1              São Paulo   46289333\n",
       "2           Minas Gerais   21292666\n",
       "3         Rio de Janeiro   17366189\n",
       "4                  Bahia   14930634\n",
       "5                 Paraná   11516840\n",
       "6      Rio Grande do Sul   11422973\n",
       "7             Pernambuco    9616621\n",
       "8                  Ceará    9187103\n",
       "9                   Pará    8690745\n",
       "10        Santa Catarina    7252502\n",
       "11              Maranhão    7114598\n",
       "12                 Goiás    7113540\n",
       "13              Amazonas    4207714\n",
       "14        Espírito Santo    4064052\n",
       "15               Paraíba    4039277\n",
       "16   Rio Grande do Norte    3534165\n",
       "17           Mato Grosso    3526220\n",
       "18               Alagoas    3351543\n",
       "19                 Piauí    3281480\n",
       "20      Distrito Federal    3055149\n",
       "21    Mato Grosso do Sul    2809394\n",
       "22               Sergipe    2318822\n",
       "23              Rondônia    1796460\n",
       "24             Tocantins    1590248\n",
       "25                  Acre     894470\n",
       "26                 Amapá     861773\n",
       "27               Roraima     631181"
      ],
      "text/html": "<div>\n<style scoped>\n    .dataframe tbody tr th:only-of-type {\n        vertical-align: middle;\n    }\n\n    .dataframe tbody tr th {\n        vertical-align: top;\n    }\n\n    .dataframe thead th {\n        text-align: right;\n    }\n</style>\n<table border=\"1\" class=\"dataframe\">\n  <thead>\n    <tr style=\"text-align: right;\">\n      <th></th>\n      <th>Estado</th>\n      <th>Populacao</th>\n    </tr>\n  </thead>\n  <tbody>\n    <tr>\n      <th>1</th>\n      <td>São Paulo</td>\n      <td>46289333</td>\n    </tr>\n    <tr>\n      <th>2</th>\n      <td>Minas Gerais</td>\n      <td>21292666</td>\n    </tr>\n    <tr>\n      <th>3</th>\n      <td>Rio de Janeiro</td>\n      <td>17366189</td>\n    </tr>\n    <tr>\n      <th>4</th>\n      <td>Bahia</td>\n      <td>14930634</td>\n    </tr>\n    <tr>\n      <th>5</th>\n      <td>Paraná</td>\n      <td>11516840</td>\n    </tr>\n    <tr>\n      <th>6</th>\n      <td>Rio Grande do Sul</td>\n      <td>11422973</td>\n    </tr>\n    <tr>\n      <th>7</th>\n      <td>Pernambuco</td>\n      <td>9616621</td>\n    </tr>\n    <tr>\n      <th>8</th>\n      <td>Ceará</td>\n      <td>9187103</td>\n    </tr>\n    <tr>\n      <th>9</th>\n      <td>Pará</td>\n      <td>8690745</td>\n    </tr>\n    <tr>\n      <th>10</th>\n      <td>Santa Catarina</td>\n      <td>7252502</td>\n    </tr>\n    <tr>\n      <th>11</th>\n      <td>Maranhão</td>\n      <td>7114598</td>\n    </tr>\n    <tr>\n      <th>12</th>\n      <td>Goiás</td>\n      <td>7113540</td>\n    </tr>\n    <tr>\n      <th>13</th>\n      <td>Amazonas</td>\n      <td>4207714</td>\n    </tr>\n    <tr>\n      <th>14</th>\n      <td>Espírito Santo</td>\n      <td>4064052</td>\n    </tr>\n    <tr>\n      <th>15</th>\n      <td>Paraíba</td>\n      <td>4039277</td>\n    </tr>\n    <tr>\n      <th>16</th>\n      <td>Rio Grande do Norte</td>\n      <td>3534165</td>\n    </tr>\n    <tr>\n      <th>17</th>\n      <td>Mato Grosso</td>\n      <td>3526220</td>\n    </tr>\n    <tr>\n      <th>18</th>\n      <td>Alagoas</td>\n      <td>3351543</td>\n    </tr>\n    <tr>\n      <th>19</th>\n      <td>Piauí</td>\n      <td>3281480</td>\n    </tr>\n    <tr>\n      <th>20</th>\n      <td>Distrito Federal</td>\n      <td>3055149</td>\n    </tr>\n    <tr>\n      <th>21</th>\n      <td>Mato Grosso do Sul</td>\n      <td>2809394</td>\n    </tr>\n    <tr>\n      <th>22</th>\n      <td>Sergipe</td>\n      <td>2318822</td>\n    </tr>\n    <tr>\n      <th>23</th>\n      <td>Rondônia</td>\n      <td>1796460</td>\n    </tr>\n    <tr>\n      <th>24</th>\n      <td>Tocantins</td>\n      <td>1590248</td>\n    </tr>\n    <tr>\n      <th>25</th>\n      <td>Acre</td>\n      <td>894470</td>\n    </tr>\n    <tr>\n      <th>26</th>\n      <td>Amapá</td>\n      <td>861773</td>\n    </tr>\n    <tr>\n      <th>27</th>\n      <td>Roraima</td>\n      <td>631181</td>\n    </tr>\n  </tbody>\n</table>\n</div>"
     },
     "metadata": {},
     "execution_count": 23
    }
   ],
   "source": [
    "df"
   ]
  },
  {
   "cell_type": "code",
   "execution_count": null,
   "metadata": {},
   "outputs": [],
   "source": []
  }
 ]
}