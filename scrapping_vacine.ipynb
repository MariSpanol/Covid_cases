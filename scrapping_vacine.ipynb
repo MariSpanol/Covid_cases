{
 "metadata": {
  "language_info": {
   "codemirror_mode": {
    "name": "ipython",
    "version": 3
   },
   "file_extension": ".py",
   "mimetype": "text/x-python",
   "name": "python",
   "nbconvert_exporter": "python",
   "pygments_lexer": "ipython3",
   "version": "3.8.8-final"
  },
  "orig_nbformat": 2,
  "kernelspec": {
   "name": "python3",
   "display_name": "Python 3.8.8 64-bit",
   "metadata": {
    "interpreter": {
     "hash": "c3dc4aeedf5cd300561f0fd5d466f86c282de6261c5284ff8ece43e68c7c23aa"
    }
   }
  }
 },
 "nbformat": 4,
 "nbformat_minor": 2,
 "cells": [
  {
   "source": [
    "# Scrapping vacina COVID-19\n",
    "\n",
    "Depois de algumas (várias) tentativas consegui desenvolver um código não muito complexo e com muita aplicabilidade para gerar os dados de vacina de COVID-19 para os estados Brasileiros, esse código faz parte do painel COVID-19 que eu estou montando em paralelo com auxilio do streamlit e que está ficando bem legal (com previsão de estar na web em Maio), o que faz com que o output desse código (o agrupamento) funcione para alguns e não para outros. \n",
    "\n",
    "O intuito aqui é compartilhar o código bruto e permitir que as pessoas tenham acesso aos dados da forma que quiserem, simbora.\n",
    "\n",
    "Os dados são os dados do OpenDatasus de vacinação COVID-19 onde cada linha é uma pessoa e as informações referentes a ela\n",
    "O link é este: https://opendatasus.saude.gov.br/dataset/covid-19-vacinacao/resource/ef3bd0b8-b605-474b-9ae5-c97390c197a8\n",
    "\n",
    "Fiz um loop para puxar cada estado de uma vez pois as tentativas de puxar \"Dados Completos\" foram falhas, mas é isso, se tiverem dicas de melhorar eu quero super!\n",
    "\n",
    "\n",
    "Pacotes que eu uso aqui:\n",
    "* Pandas (para colocar em dataframe as informações extraídas)\n",
    "* Io (auxilia em extrair junto com o requests)\n",
    "* Requests (puxar os dados da URL)\n",
    "* Numpy (uso no agrupamento)\n",
    "\n",
    "\n"
   ],
   "cell_type": "markdown",
   "metadata": {}
  },
  {
   "source": [
    "Nesse exemplo eu trouxe as variáveis de maior relevância e abaixo descrevo o que são:\n",
    "\n",
    "* paciente_endereco_nmMunicipio: nome do municipio do vacinado\n",
    "\n",
    "* paciente_enumSexoBiologico: sexo biologio, se feminino ou masculino\n",
    "\n",
    "* vacina_categoria_nome: categoria do vacinado (se por idade, trabalhador de saúde, limpeza)\n",
    "\n",
    "* vacina_descricao_dose: dose da vacina, se primeira ou segunda dose\n",
    "\n",
    "* paciente_racaCor_valor: raça/cor do vacinado\n",
    "\n",
    "* UF: estado (eu criei essa variável)\n",
    "\n",
    "* vacina_dataAplicacao: data de aplicação da vacina"
   ],
   "cell_type": "markdown",
   "metadata": {}
  },
  {
   "cell_type": "code",
   "execution_count": null,
   "metadata": {},
   "outputs": [],
   "source": [
    "import pandas as pd \n",
    "import io\n",
    "import requests\n",
    "import numpy as np\n",
    "\n",
    "\n",
    "results_caract = [] # guardar os resultados\n",
    "results_series = [] # guardar os resultados\n",
    "\n",
    "seq_url = ['AC','AL','AM','AP','BA','CE','DF','ES','GO','MA','MG','MS','MT','PA','PB','PE','PI','PR','RJ','RN','RO','RR','RS','SC','SE','SP', 'TO'] # ufs brasileiras\n",
    "\n",
    "for i in seq_url:\n",
    "    i = str(i)\n",
    "    url = \"https://s3-sa-east-1.amazonaws.com/ckan.saude.gov.br/PNI/vacina/uf/2021-04-04/uf%3D\"+ i + \"/part-00000-072d96f6-f1d2-4b7f-a602-a64093bf2cf5.c000.csv\" # inspecionei o codigo e vi que estao nesse link\n",
    "    print('Estado sendo extraído: '+ i) # printo o estado que esta sendo extraido\n",
    "    s=requests.get(url).content # requiro as informações\n",
    "    c=pd.read_csv(io.StringIO(s.decode('utf-8')), sep = ';') # coloco as informaçõe em data frame e arrumo o encoding\n",
    "    c['UF'] = i # trago a informação da UF\n",
    "    c['indicador'] = 1 # crio indicador para auxiliar contagem\n",
    "\n",
    "    caract = c.groupby(['paciente_endereco_nmMunicipio', \"paciente_enumSexoBiologico\", \"vacina_categoria_nome\",\"vacina_descricao_dose\", 'paciente_racaCor_valor', 'UF' ]).agg({\"paciente_idade\": [np.mean, 'count']}).reset_index() # agrupo o output como EU quero, aqui pode nao valer para alguns de voces\n",
    "    time = c.groupby(['paciente_endereco_nmMunicipio','vacina_dataAplicacao', 'UF']).agg({\"indicador\": [ np.sum]}).reset_index()  # agrupo o output como EU quero, aqui pode nao valer para alguns de voces\n",
    "\n",
    "\n",
    "    results_caract.append(caract) # append de todos os estados no  meu output\n",
    "    results_series.append(time) # append de todos os estados no meu ouput"
   ]
  },
  {
   "cell_type": "code",
   "execution_count": null,
   "metadata": {},
   "outputs": [],
   "source": [
    "results_caract = pd.concat(results_caract)  # concatenando\n",
    "results.to_csv('caract_vac.csv', index = False) # salvando a base\n"
   ]
  },
  {
   "cell_type": "code",
   "execution_count": null,
   "metadata": {},
   "outputs": [],
   "source": [
    "results_caract = pd.concat(results_series) # concatenando\n",
    "results_series.to_csv('time_vac.csv', index = False) # salvando a base"
   ]
  }
 ]
}